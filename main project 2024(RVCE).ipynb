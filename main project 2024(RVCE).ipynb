{
 "cells": [
  {
   "cell_type": "code",
   "execution_count": 2,
   "id": "4413dd36",
   "metadata": {},
   "outputs": [],
   "source": [
    "import os\n",
    "import numpy as np\n",
    "import matplotlib.pyplot as plt\n",
    "from sklearn.model_selection import train_test_split\n",
    "from tensorflow.keras.preprocessing.image import load_img, img_to_array\n",
    "from tensorflow.keras.models import Sequential\n",
    "from tensorflow.keras.layers import Conv2D, MaxPooling2D, Flatten, Dense, Dropout\n",
    "from tensorflow.keras.utils import to_categorical\n",
    "\n"
   ]
  },
  {
   "cell_type": "code",
   "execution_count": 3,
   "id": "331e2591",
   "metadata": {},
   "outputs": [],
   "source": [
    "\n",
    "\n",
    "# Constants\n",
    "IMAGE_SIZE = (128, 128)\n",
    "NUM_CLASSES = 6 # Assuming 3 classes: diseased, healthy, and others\n",
    "BATCH_SIZE = 32\n",
    "EPOCHS = 20\n",
    "LEARNING_RATE = 0.001\n",
    "\n"
   ]
  },
  {
   "cell_type": "code",
   "execution_count": 4,
   "id": "db270357",
   "metadata": {},
   "outputs": [],
   "source": [
    "\n",
    "\n",
    "# Function to load and preprocess images\n",
    "def load_and_preprocess_data(data_dir):\n",
    "    images = []\n",
    "    labels = []\n",
    "    classes = os.listdir(data_dir)\n",
    "    num_classes = len(classes)\n",
    "    \n",
    "    for class_id, class_name in enumerate(classes):\n",
    "        class_dir = os.path.join(data_dir, class_name)\n",
    "        for image_file in os.listdir(class_dir):\n",
    "            image_path = os.path.join(class_dir, image_file)\n",
    "            image = load_img(image_path, target_size=IMAGE_SIZE)\n",
    "            image = img_to_array(image) / 255.0  # Normalize pixel values to [0, 1]\n",
    "            images.append(image)\n",
    "            labels.append(class_id)\n",
    "    \n",
    "    images = np.array(images)\n",
    "    labels = np.array(labels)\n",
    "    \n",
    "    return images, labels\n",
    "\n"
   ]
  },
  {
   "cell_type": "code",
   "execution_count": 5,
   "id": "19fbe9e8",
   "metadata": {},
   "outputs": [],
   "source": [
    "\n",
    "\n",
    "# Load and preprocess data\n",
    "data_dir = r'C:\\Users\\jeeva P\\OneDrive\\Desktop\\rice disease detection\\archive (6)\\RiceLeafsDisease\\train'\n",
    "images, labels = load_and_preprocess_data(data_dir)\n",
    "\n"
   ]
  },
  {
   "cell_type": "code",
   "execution_count": 6,
   "id": "5f21af96",
   "metadata": {},
   "outputs": [],
   "source": [
    "\n",
    "\n",
    "# Split data into training and testing sets\n",
    "X_train, X_test, y_train, y_test = train_test_split(images, labels, test_size=0.2, random_state=42)\n",
    "\n"
   ]
  },
  {
   "cell_type": "code",
   "execution_count": 7,
   "id": "f5daf730",
   "metadata": {},
   "outputs": [],
   "source": [
    "# Convert labels to one-hot encoding\n",
    "y_train = to_categorical(y_train, num_classes=NUM_CLASSES)\n",
    "y_test = to_categorical(y_test, num_classes=NUM_CLASSES)\n"
   ]
  },
  {
   "cell_type": "code",
   "execution_count": 8,
   "id": "4f3d0d2c",
   "metadata": {},
   "outputs": [],
   "source": [
    "# Build CNN model\n",
    "model = Sequential([\n",
    "    Conv2D(32, (3, 3), activation='relu', input_shape=(*IMAGE_SIZE, 3)),\n",
    "    MaxPooling2D((2, 2)),\n",
    "    Conv2D(64, (3, 3), activation='relu'),\n",
    "    MaxPooling2D((2, 2)),\n",
    "    Conv2D(128, (3, 3), activation='relu'),\n",
    "    MaxPooling2D((2, 2)),\n",
    "    Flatten(),\n",
    "    Dense(128, activation='relu'),\n",
    "    Dropout(0.5),\n",
    "    Dense(NUM_CLASSES, activation='softmax')\n",
    "])\n"
   ]
  },
  {
   "cell_type": "code",
   "execution_count": 9,
   "id": "3a55450e",
   "metadata": {},
   "outputs": [],
   "source": [
    "# Compile model\n",
    "model.compile(optimizer='adam', loss='categorical_crossentropy', metrics=['accuracy'])\n"
   ]
  },
  {
   "cell_type": "code",
   "execution_count": 10,
   "id": "a120cda7",
   "metadata": {},
   "outputs": [
    {
     "name": "stdout",
     "output_type": "stream",
     "text": [
      "Epoch 1/20\n",
      "48/48 [==============================] - 21s 398ms/step - loss: 1.6892 - accuracy: 0.3181 - val_loss: 1.3804 - val_accuracy: 0.4048\n",
      "Epoch 2/20\n",
      "48/48 [==============================] - 18s 381ms/step - loss: 1.2649 - accuracy: 0.5456 - val_loss: 1.1066 - val_accuracy: 0.6012\n",
      "Epoch 3/20\n",
      "48/48 [==============================] - 19s 387ms/step - loss: 1.0378 - accuracy: 0.6131 - val_loss: 0.8437 - val_accuracy: 0.6786\n",
      "Epoch 4/20\n",
      "48/48 [==============================] - 19s 388ms/step - loss: 0.9597 - accuracy: 0.6303 - val_loss: 0.8708 - val_accuracy: 0.6310\n",
      "Epoch 5/20\n",
      "48/48 [==============================] - 19s 388ms/step - loss: 0.8327 - accuracy: 0.6832 - val_loss: 0.6978 - val_accuracy: 0.7321\n",
      "Epoch 6/20\n",
      "48/48 [==============================] - 19s 403ms/step - loss: 0.7571 - accuracy: 0.7143 - val_loss: 0.6856 - val_accuracy: 0.7738\n",
      "Epoch 7/20\n",
      "48/48 [==============================] - 19s 394ms/step - loss: 0.7022 - accuracy: 0.7493 - val_loss: 0.5977 - val_accuracy: 0.7798\n",
      "Epoch 8/20\n",
      "48/48 [==============================] - 19s 398ms/step - loss: 0.6237 - accuracy: 0.7698 - val_loss: 0.5003 - val_accuracy: 0.7917\n",
      "Epoch 9/20\n",
      "48/48 [==============================] - 19s 393ms/step - loss: 0.6076 - accuracy: 0.7751 - val_loss: 0.6291 - val_accuracy: 0.7679\n",
      "Epoch 10/20\n",
      "48/48 [==============================] - 18s 386ms/step - loss: 0.5558 - accuracy: 0.7956 - val_loss: 0.7247 - val_accuracy: 0.7202\n",
      "Epoch 11/20\n",
      "48/48 [==============================] - 19s 402ms/step - loss: 0.4979 - accuracy: 0.8234 - val_loss: 0.4585 - val_accuracy: 0.8036\n",
      "Epoch 12/20\n",
      "48/48 [==============================] - 19s 403ms/step - loss: 0.4060 - accuracy: 0.8558 - val_loss: 0.5623 - val_accuracy: 0.7440\n",
      "Epoch 13/20\n",
      "48/48 [==============================] - 19s 391ms/step - loss: 0.4907 - accuracy: 0.8175 - val_loss: 0.4367 - val_accuracy: 0.8274\n",
      "Epoch 14/20\n",
      "48/48 [==============================] - 19s 390ms/step - loss: 0.4040 - accuracy: 0.8552 - val_loss: 0.4012 - val_accuracy: 0.8274\n",
      "Epoch 15/20\n",
      "48/48 [==============================] - 19s 403ms/step - loss: 0.3555 - accuracy: 0.8591 - val_loss: 0.4007 - val_accuracy: 0.8393\n",
      "Epoch 16/20\n",
      "48/48 [==============================] - 19s 389ms/step - loss: 0.2814 - accuracy: 0.8935 - val_loss: 0.3731 - val_accuracy: 0.8571\n",
      "Epoch 17/20\n",
      "48/48 [==============================] - 19s 390ms/step - loss: 0.2797 - accuracy: 0.8975 - val_loss: 0.4476 - val_accuracy: 0.8512\n",
      "Epoch 18/20\n",
      "48/48 [==============================] - 19s 393ms/step - loss: 0.3860 - accuracy: 0.8519 - val_loss: 0.4578 - val_accuracy: 0.8095\n",
      "Epoch 19/20\n",
      "48/48 [==============================] - 19s 393ms/step - loss: 0.3295 - accuracy: 0.8743 - val_loss: 0.4315 - val_accuracy: 0.8393\n",
      "Epoch 20/20\n",
      "48/48 [==============================] - 19s 405ms/step - loss: 0.2654 - accuracy: 0.9034 - val_loss: 0.3784 - val_accuracy: 0.8571\n"
     ]
    }
   ],
   "source": [
    "# Train model\n",
    "history = model.fit(X_train, y_train, batch_size=BATCH_SIZE, epochs=EPOCHS, validation_split=0.1)"
   ]
  },
  {
   "cell_type": "code",
   "execution_count": 11,
   "id": "e3f470cc",
   "metadata": {},
   "outputs": [
    {
     "name": "stdout",
     "output_type": "stream",
     "text": [
      "14/14 [==============================] - 1s 61ms/step - loss: 0.4592 - accuracy: 0.8286\n",
      "Test Loss: 0.4592415988445282, Test Accuracy: 0.8285714387893677\n"
     ]
    }
   ],
   "source": [
    "# Evaluate model\n",
    "loss, accuracy = model.evaluate(X_test, y_test)\n",
    "print(f'Test Loss: {loss}, Test Accuracy: {accuracy}')\n"
   ]
  },
  {
   "cell_type": "code",
   "execution_count": 12,
   "id": "c6818142",
   "metadata": {},
   "outputs": [
    {
     "data": {
      "image/png": "[encoded data removed]",
      "text/plain": [
       "<Figure size 640x480 with 1 Axes>"
      ]
     },
     "metadata": {},
     "output_type": "display_data"
    }
   ],
   "source": [
    "# Plot training history\n",
    "plt.plot(history.history['accuracy'], label='accuracy')\n",
    "plt.plot(history.history['val_accuracy'], label='val_accuracy')\n",
    "plt.xlabel('Epoch')\n",
    "plt.ylabel('Accuracy')\n",
    "plt.legend()\n",
    "plt.show()\n"
   ]
  },
  {
   "cell_type": "code",
   "execution_count": 13,
   "id": "11f48200",
   "metadata": {},
   "outputs": [],
   "source": [
    "model.save(r'C:\\Users\\jeeva P\\Videos\\model.h5')"
   ]
  },
  {
   "cell_type": "code",
   "execution_count": 14,
   "id": "402c2c39",
   "metadata": {},
   "outputs": [],
   "source": [
    "import os\n",
    "import numpy as np\n",
    "from tensorflow.keras.preprocessing.image import load_img, img_to_array\n",
    "from tensorflow.keras.models import load_model\n"
   ]
  },
  {
   "cell_type": "code",
   "execution_count": 15,
   "id": "a9fb52b6",
   "metadata": {},
   "outputs": [],
   "source": [
    "# Constants\n",
    "IMAGE_SIZE = (128, 128)"
   ]
  },
  {
   "cell_type": "code",
   "execution_count": 16,
   "id": "f3ad7cb5",
   "metadata": {},
   "outputs": [],
   "source": [
    "# Function to preprocess a single image\n",
    "def preprocess_image(image_path):\n",
    "    image = load_img(image_path, target_size=IMAGE_SIZE)\n",
    "    image = img_to_array(image) / 255.0  # Normalize pixel values to [0, 1]\n",
    "    image = np.expand_dims(image, axis=0)  # Add batch dimension\n",
    "    return image"
   ]
  },
  {
   "cell_type": "code",
   "execution_count": 17,
   "id": "47985cde",
   "metadata": {},
   "outputs": [],
   "source": [
    "# Load the trained model\n",
    "model = load_model(r\"C:\\Users\\jeeva P\\Videos\\model.h5\")\n"
   ]
  },
  {
   "cell_type": "code",
   "execution_count": 18,
   "id": "2bdb4539",
   "metadata": {},
   "outputs": [],
   "source": [
    "# Path to the image you want to make predictions on\n",
    "image_path = r\"C:\\Users\\jeeva P\\Videos\\rice disease\\archive (6)\\RiceLeafsDisease\\train\\leaf_scald\\leaf_scald (5).jpg\""
   ]
  },
  {
   "cell_type": "code",
   "execution_count": 19,
   "id": "d41467a7",
   "metadata": {},
   "outputs": [],
   "source": [
    "# Preprocess the image\n",
    "image = preprocess_image(image_path)\n"
   ]
  },
  {
   "cell_type": "code",
   "execution_count": 20,
   "id": "29bd5c1f",
   "metadata": {},
   "outputs": [
    {
     "name": "stdout",
     "output_type": "stream",
     "text": [
      "1/1 [==============================] - 0s 64ms/step\n"
     ]
    }
   ],
   "source": [
    "# Make predictions\n",
    "predictions = model.predict(image)\n"
   ]
  },
  {
   "cell_type": "code",
   "execution_count": 21,
   "id": "18a2e061",
   "metadata": {},
   "outputs": [],
   "source": [
    "# Get the predicted class label\n",
    "predicted_class = np.argmax(predictions)"
   ]
  },
  {
   "cell_type": "code",
   "execution_count": 22,
   "id": "4281916a",
   "metadata": {},
   "outputs": [],
   "source": [
    "# Mapping class indices to class names\n",
    "class_names = {0: \"bacterial_leaf_blight\", 1: \"brown_spot\", 2: \"healthy\" , 3: \"leaf_blast\", 4: \"leaf_scald\", 5: \"narrow_brown_spot\"}  # Update with your actual class names\n"
   ]
  },
  {
   "cell_type": "code",
   "execution_count": 23,
   "id": "deee8863",
   "metadata": {},
   "outputs": [
    {
     "name": "stdout",
     "output_type": "stream",
     "text": [
      "Predicted class: leaf_scald\n"
     ]
    }
   ],
   "source": [
    "# Print the predicted class label\n",
    "print(\"Predicted class:\", class_names[predicted_class])"
   ]
  },
  {
   "cell_type": "code",
   "execution_count": 24,
   "id": "8ca25c36",
   "metadata": {},
   "outputs": [
    {
     "name": "stdout",
     "output_type": "stream",
     "text": [
      "recommend leaf scald pesticides\n"
     ]
    }
   ],
   "source": [
    "\n",
    "\n",
    "if predicted_class == 0:\n",
    "    print(\"recommend bacterial leaf blight pesticides\")\n",
    "elif predicted_class == 1:\n",
    "    print(\"recommend brown spot pesticides\")\n",
    "elif predicted_class == 2:\n",
    "     print(\"no pesticides\")\n",
    "elif predicted_class == 3:\n",
    "    print(\"recommend leaf blast pesticides\")\n",
    "elif predicted_class == 4:\n",
    "     print(\"recommend leaf scald pesticides\")\n",
    "elif predicted_class == 5:\n",
    "     print(\"recommend narrow brown spot pesticides\")\n",
    "else:\n",
    "    print(\"plz upload the clear image or another image in order to get correct recommendation pesticides\")\n",
    "\n"
   ]
  },
  {
   "cell_type": "code",
   "execution_count": null,
   "id": "d99b510f",
   "metadata": {},
   "outputs": [],
   "source": []
  }
 ],
 "metadata": {
  "kernelspec": {
   "display_name": "Python 3 (ipykernel)",
   "language": "python",
   "name": "python3"
  },
  "language_info": {
   "codemirror_mode": {
    "name": "ipython",
    "version": 3
   },
   "file_extension": ".py",
   "mimetype": "text/x-python",
   "name": "python",
   "nbconvert_exporter": "python",
   "pygments_lexer": "ipython3",
   "version": "3.9.13"
  }
 },
 "nbformat": 4,
 "nbformat_minor": 5
}
